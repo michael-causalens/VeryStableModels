{
 "cells": [
  {
   "cell_type": "markdown",
   "metadata": {},
   "source": [
    "# Election simulator, polls only\n",
    "\n",
    "Methodology:\n",
    "\n",
    "For a single battleground state, say Florida\n",
    "\n",
    "Take a kernel density estimate of the Biden and Trump polling sample data\n",
    "\n",
    "This should be a single KDE fitted to net Biden margin (>0 = he wins, <0= he loses)\n",
    "\n",
    "Optimise the bandwidth according to some objective\n",
    "\n",
    "Run 10k pseudoexperiments by sampling from this KDE, compute the distribution of outcomes"
   ]
  },
  {
   "cell_type": "code",
   "execution_count": 1,
   "metadata": {
    "ExecuteTime": {
     "end_time": "2020-10-28T13:46:51.521156Z",
     "start_time": "2020-10-28T13:46:49.301596Z"
    }
   },
   "outputs": [
    {
     "data": {
      "text/html": [
       "\n",
       "    <div class=\"bk-root\">\n",
       "        <a href=\"https://bokeh.org\" target=\"_blank\" class=\"bk-logo bk-logo-small bk-logo-notebook\"></a>\n",
       "        <span id=\"1001\">Loading BokehJS ...</span>\n",
       "    </div>"
      ]
     },
     "metadata": {},
     "output_type": "display_data"
    },
    {
     "data": {
      "application/javascript": [
       "\n",
       "(function(root) {\n",
       "  function now() {\n",
       "    return new Date();\n",
       "  }\n",
       "\n",
       "  var force = true;\n",
       "\n",
       "  if (typeof root._bokeh_onload_callbacks === \"undefined\" || force === true) {\n",
       "    root._bokeh_onload_callbacks = [];\n",
       "    root._bokeh_is_loading = undefined;\n",
       "  }\n",
       "\n",
       "  var JS_MIME_TYPE = 'application/javascript';\n",
       "  var HTML_MIME_TYPE = 'text/html';\n",
       "  var EXEC_MIME_TYPE = 'application/vnd.bokehjs_exec.v0+json';\n",
       "  var CLASS_NAME = 'output_bokeh rendered_html';\n",
       "\n",
       "  /**\n",
       "   * Render data to the DOM node\n",
       "   */\n",
       "  function render(props, node) {\n",
       "    var script = document.createElement(\"script\");\n",
       "    node.appendChild(script);\n",
       "  }\n",
       "\n",
       "  /**\n",
       "   * Handle when an output is cleared or removed\n",
       "   */\n",
       "  function handleClearOutput(event, handle) {\n",
       "    var cell = handle.cell;\n",
       "\n",
       "    var id = cell.output_area._bokeh_element_id;\n",
       "    var server_id = cell.output_area._bokeh_server_id;\n",
       "    // Clean up Bokeh references\n",
       "    if (id != null && id in Bokeh.index) {\n",
       "      Bokeh.index[id].model.document.clear();\n",
       "      delete Bokeh.index[id];\n",
       "    }\n",
       "\n",
       "    if (server_id !== undefined) {\n",
       "      // Clean up Bokeh references\n",
       "      var cmd = \"from bokeh.io.state import curstate; print(curstate().uuid_to_server['\" + server_id + \"'].get_sessions()[0].document.roots[0]._id)\";\n",
       "      cell.notebook.kernel.execute(cmd, {\n",
       "        iopub: {\n",
       "          output: function(msg) {\n",
       "            var id = msg.content.text.trim();\n",
       "            if (id in Bokeh.index) {\n",
       "              Bokeh.index[id].model.document.clear();\n",
       "              delete Bokeh.index[id];\n",
       "            }\n",
       "          }\n",
       "        }\n",
       "      });\n",
       "      // Destroy server and session\n",
       "      var cmd = \"import bokeh.io.notebook as ion; ion.destroy_server('\" + server_id + \"')\";\n",
       "      cell.notebook.kernel.execute(cmd);\n",
       "    }\n",
       "  }\n",
       "\n",
       "  /**\n",
       "   * Handle when a new output is added\n",
       "   */\n",
       "  function handleAddOutput(event, handle) {\n",
       "    var output_area = handle.output_area;\n",
       "    var output = handle.output;\n",
       "\n",
       "    // limit handleAddOutput to display_data with EXEC_MIME_TYPE content only\n",
       "    if ((output.output_type != \"display_data\") || (!output.data.hasOwnProperty(EXEC_MIME_TYPE))) {\n",
       "      return\n",
       "    }\n",
       "\n",
       "    var toinsert = output_area.element.find(\".\" + CLASS_NAME.split(' ')[0]);\n",
       "\n",
       "    if (output.metadata[EXEC_MIME_TYPE][\"id\"] !== undefined) {\n",
       "      toinsert[toinsert.length - 1].firstChild.textContent = output.data[JS_MIME_TYPE];\n",
       "      // store reference to embed id on output_area\n",
       "      output_area._bokeh_element_id = output.metadata[EXEC_MIME_TYPE][\"id\"];\n",
       "    }\n",
       "    if (output.metadata[EXEC_MIME_TYPE][\"server_id\"] !== undefined) {\n",
       "      var bk_div = document.createElement(\"div\");\n",
       "      bk_div.innerHTML = output.data[HTML_MIME_TYPE];\n",
       "      var script_attrs = bk_div.children[0].attributes;\n",
       "      for (var i = 0; i < script_attrs.length; i++) {\n",
       "        toinsert[toinsert.length - 1].firstChild.setAttribute(script_attrs[i].name, script_attrs[i].value);\n",
       "      }\n",
       "      // store reference to server id on output_area\n",
       "      output_area._bokeh_server_id = output.metadata[EXEC_MIME_TYPE][\"server_id\"];\n",
       "    }\n",
       "  }\n",
       "\n",
       "  function register_renderer(events, OutputArea) {\n",
       "\n",
       "    function append_mime(data, metadata, element) {\n",
       "      // create a DOM node to render to\n",
       "      var toinsert = this.create_output_subarea(\n",
       "        metadata,\n",
       "        CLASS_NAME,\n",
       "        EXEC_MIME_TYPE\n",
       "      );\n",
       "      this.keyboard_manager.register_events(toinsert);\n",
       "      // Render to node\n",
       "      var props = {data: data, metadata: metadata[EXEC_MIME_TYPE]};\n",
       "      render(props, toinsert[toinsert.length - 1]);\n",
       "      element.append(toinsert);\n",
       "      return toinsert\n",
       "    }\n",
       "\n",
       "    /* Handle when an output is cleared or removed */\n",
       "    events.on('clear_output.CodeCell', handleClearOutput);\n",
       "    events.on('delete.Cell', handleClearOutput);\n",
       "\n",
       "    /* Handle when a new output is added */\n",
       "    events.on('output_added.OutputArea', handleAddOutput);\n",
       "\n",
       "    /**\n",
       "     * Register the mime type and append_mime function with output_area\n",
       "     */\n",
       "    OutputArea.prototype.register_mime_type(EXEC_MIME_TYPE, append_mime, {\n",
       "      /* Is output safe? */\n",
       "      safe: true,\n",
       "      /* Index of renderer in `output_area.display_order` */\n",
       "      index: 0\n",
       "    });\n",
       "  }\n",
       "\n",
       "  // register the mime type if in Jupyter Notebook environment and previously unregistered\n",
       "  if (root.Jupyter !== undefined) {\n",
       "    var events = require('base/js/events');\n",
       "    var OutputArea = require('notebook/js/outputarea').OutputArea;\n",
       "\n",
       "    if (OutputArea.prototype.mime_types().indexOf(EXEC_MIME_TYPE) == -1) {\n",
       "      register_renderer(events, OutputArea);\n",
       "    }\n",
       "  }\n",
       "\n",
       "  \n",
       "  if (typeof (root._bokeh_timeout) === \"undefined\" || force === true) {\n",
       "    root._bokeh_timeout = Date.now() + 5000;\n",
       "    root._bokeh_failed_load = false;\n",
       "  }\n",
       "\n",
       "  var NB_LOAD_WARNING = {'data': {'text/html':\n",
       "     \"<div style='background-color: #fdd'>\\n\"+\n",
       "     \"<p>\\n\"+\n",
       "     \"BokehJS does not appear to have successfully loaded. If loading BokehJS from CDN, this \\n\"+\n",
       "     \"may be due to a slow or bad network connection. Possible fixes:\\n\"+\n",
       "     \"</p>\\n\"+\n",
       "     \"<ul>\\n\"+\n",
       "     \"<li>re-rerun `output_notebook()` to attempt to load from CDN again, or</li>\\n\"+\n",
       "     \"<li>use INLINE resources instead, as so:</li>\\n\"+\n",
       "     \"</ul>\\n\"+\n",
       "     \"<code>\\n\"+\n",
       "     \"from bokeh.resources import INLINE\\n\"+\n",
       "     \"output_notebook(resources=INLINE)\\n\"+\n",
       "     \"</code>\\n\"+\n",
       "     \"</div>\"}};\n",
       "\n",
       "  function display_loaded() {\n",
       "    var el = document.getElementById(\"1001\");\n",
       "    if (el != null) {\n",
       "      el.textContent = \"BokehJS is loading...\";\n",
       "    }\n",
       "    if (root.Bokeh !== undefined) {\n",
       "      if (el != null) {\n",
       "        el.textContent = \"BokehJS \" + root.Bokeh.version + \" successfully loaded.\";\n",
       "      }\n",
       "    } else if (Date.now() < root._bokeh_timeout) {\n",
       "      setTimeout(display_loaded, 100)\n",
       "    }\n",
       "  }\n",
       "\n",
       "\n",
       "  function run_callbacks() {\n",
       "    try {\n",
       "      root._bokeh_onload_callbacks.forEach(function(callback) {\n",
       "        if (callback != null)\n",
       "          callback();\n",
       "      });\n",
       "    } finally {\n",
       "      delete root._bokeh_onload_callbacks\n",
       "    }\n",
       "    console.debug(\"Bokeh: all callbacks have finished\");\n",
       "  }\n",
       "\n",
       "  function load_libs(css_urls, js_urls, callback) {\n",
       "    if (css_urls == null) css_urls = [];\n",
       "    if (js_urls == null) js_urls = [];\n",
       "\n",
       "    root._bokeh_onload_callbacks.push(callback);\n",
       "    if (root._bokeh_is_loading > 0) {\n",
       "      console.debug(\"Bokeh: BokehJS is being loaded, scheduling callback at\", now());\n",
       "      return null;\n",
       "    }\n",
       "    if (js_urls == null || js_urls.length === 0) {\n",
       "      run_callbacks();\n",
       "      return null;\n",
       "    }\n",
       "    console.debug(\"Bokeh: BokehJS not loaded, scheduling load and callback at\", now());\n",
       "    root._bokeh_is_loading = css_urls.length + js_urls.length;\n",
       "\n",
       "    function on_load() {\n",
       "      root._bokeh_is_loading--;\n",
       "      if (root._bokeh_is_loading === 0) {\n",
       "        console.debug(\"Bokeh: all BokehJS libraries/stylesheets loaded\");\n",
       "        run_callbacks()\n",
       "      }\n",
       "    }\n",
       "\n",
       "    function on_error() {\n",
       "      console.error(\"failed to load \" + url);\n",
       "    }\n",
       "\n",
       "    for (var i = 0; i < css_urls.length; i++) {\n",
       "      var url = css_urls[i];\n",
       "      const element = document.createElement(\"link\");\n",
       "      element.onload = on_load;\n",
       "      element.onerror = on_error;\n",
       "      element.rel = \"stylesheet\";\n",
       "      element.type = \"text/css\";\n",
       "      element.href = url;\n",
       "      console.debug(\"Bokeh: injecting link tag for BokehJS stylesheet: \", url);\n",
       "      document.body.appendChild(element);\n",
       "    }\n",
       "\n",
       "    for (var i = 0; i < js_urls.length; i++) {\n",
       "      var url = js_urls[i];\n",
       "      var element = document.createElement('script');\n",
       "      element.onload = on_load;\n",
       "      element.onerror = on_error;\n",
       "      element.async = false;\n",
       "      element.src = url;\n",
       "      console.debug(\"Bokeh: injecting script tag for BokehJS library: \", url);\n",
       "      document.head.appendChild(element);\n",
       "    }\n",
       "  };var element = document.getElementById(\"1001\");\n",
       "  if (element == null) {\n",
       "    console.error(\"Bokeh: ERROR: autoload.js configured with elementid '1001' but no matching script tag was found. \")\n",
       "    return false;\n",
       "  }\n",
       "\n",
       "  function inject_raw_css(css) {\n",
       "    const element = document.createElement(\"style\");\n",
       "    element.appendChild(document.createTextNode(css));\n",
       "    document.body.appendChild(element);\n",
       "  }\n",
       "\n",
       "  \n",
       "  var js_urls = [\"https://cdn.pydata.org/bokeh/release/bokeh-1.4.0.min.js\", \"https://cdn.pydata.org/bokeh/release/bokeh-widgets-1.4.0.min.js\", \"https://cdn.pydata.org/bokeh/release/bokeh-tables-1.4.0.min.js\", \"https://cdn.pydata.org/bokeh/release/bokeh-gl-1.4.0.min.js\"];\n",
       "  var css_urls = [];\n",
       "  \n",
       "\n",
       "  var inline_js = [\n",
       "    function(Bokeh) {\n",
       "      Bokeh.set_log_level(\"info\");\n",
       "    },\n",
       "    function(Bokeh) {\n",
       "    \n",
       "    \n",
       "    }\n",
       "  ];\n",
       "\n",
       "  function run_inline_js() {\n",
       "    \n",
       "    if (root.Bokeh !== undefined || force === true) {\n",
       "      \n",
       "    for (var i = 0; i < inline_js.length; i++) {\n",
       "      inline_js[i].call(root, root.Bokeh);\n",
       "    }\n",
       "    if (force === true) {\n",
       "        display_loaded();\n",
       "      }} else if (Date.now() < root._bokeh_timeout) {\n",
       "      setTimeout(run_inline_js, 100);\n",
       "    } else if (!root._bokeh_failed_load) {\n",
       "      console.log(\"Bokeh: BokehJS failed to load within specified timeout.\");\n",
       "      root._bokeh_failed_load = true;\n",
       "    } else if (force !== true) {\n",
       "      var cell = $(document.getElementById(\"1001\")).parents('.cell').data().cell;\n",
       "      cell.output_area.append_execute_result(NB_LOAD_WARNING)\n",
       "    }\n",
       "\n",
       "  }\n",
       "\n",
       "  if (root._bokeh_is_loading === 0) {\n",
       "    console.debug(\"Bokeh: BokehJS loaded, going straight to plotting\");\n",
       "    run_inline_js();\n",
       "  } else {\n",
       "    load_libs(css_urls, js_urls, function() {\n",
       "      console.debug(\"Bokeh: BokehJS plotting callback run at\", now());\n",
       "      run_inline_js();\n",
       "    });\n",
       "  }\n",
       "}(window));"
      ],
      "application/vnd.bokehjs_load.v0+json": "\n(function(root) {\n  function now() {\n    return new Date();\n  }\n\n  var force = true;\n\n  if (typeof root._bokeh_onload_callbacks === \"undefined\" || force === true) {\n    root._bokeh_onload_callbacks = [];\n    root._bokeh_is_loading = undefined;\n  }\n\n  \n\n  \n  if (typeof (root._bokeh_timeout) === \"undefined\" || force === true) {\n    root._bokeh_timeout = Date.now() + 5000;\n    root._bokeh_failed_load = false;\n  }\n\n  var NB_LOAD_WARNING = {'data': {'text/html':\n     \"<div style='background-color: #fdd'>\\n\"+\n     \"<p>\\n\"+\n     \"BokehJS does not appear to have successfully loaded. If loading BokehJS from CDN, this \\n\"+\n     \"may be due to a slow or bad network connection. Possible fixes:\\n\"+\n     \"</p>\\n\"+\n     \"<ul>\\n\"+\n     \"<li>re-rerun `output_notebook()` to attempt to load from CDN again, or</li>\\n\"+\n     \"<li>use INLINE resources instead, as so:</li>\\n\"+\n     \"</ul>\\n\"+\n     \"<code>\\n\"+\n     \"from bokeh.resources import INLINE\\n\"+\n     \"output_notebook(resources=INLINE)\\n\"+\n     \"</code>\\n\"+\n     \"</div>\"}};\n\n  function display_loaded() {\n    var el = document.getElementById(\"1001\");\n    if (el != null) {\n      el.textContent = \"BokehJS is loading...\";\n    }\n    if (root.Bokeh !== undefined) {\n      if (el != null) {\n        el.textContent = \"BokehJS \" + root.Bokeh.version + \" successfully loaded.\";\n      }\n    } else if (Date.now() < root._bokeh_timeout) {\n      setTimeout(display_loaded, 100)\n    }\n  }\n\n\n  function run_callbacks() {\n    try {\n      root._bokeh_onload_callbacks.forEach(function(callback) {\n        if (callback != null)\n          callback();\n      });\n    } finally {\n      delete root._bokeh_onload_callbacks\n    }\n    console.debug(\"Bokeh: all callbacks have finished\");\n  }\n\n  function load_libs(css_urls, js_urls, callback) {\n    if (css_urls == null) css_urls = [];\n    if (js_urls == null) js_urls = [];\n\n    root._bokeh_onload_callbacks.push(callback);\n    if (root._bokeh_is_loading > 0) {\n      console.debug(\"Bokeh: BokehJS is being loaded, scheduling callback at\", now());\n      return null;\n    }\n    if (js_urls == null || js_urls.length === 0) {\n      run_callbacks();\n      return null;\n    }\n    console.debug(\"Bokeh: BokehJS not loaded, scheduling load and callback at\", now());\n    root._bokeh_is_loading = css_urls.length + js_urls.length;\n\n    function on_load() {\n      root._bokeh_is_loading--;\n      if (root._bokeh_is_loading === 0) {\n        console.debug(\"Bokeh: all BokehJS libraries/stylesheets loaded\");\n        run_callbacks()\n      }\n    }\n\n    function on_error() {\n      console.error(\"failed to load \" + url);\n    }\n\n    for (var i = 0; i < css_urls.length; i++) {\n      var url = css_urls[i];\n      const element = document.createElement(\"link\");\n      element.onload = on_load;\n      element.onerror = on_error;\n      element.rel = \"stylesheet\";\n      element.type = \"text/css\";\n      element.href = url;\n      console.debug(\"Bokeh: injecting link tag for BokehJS stylesheet: \", url);\n      document.body.appendChild(element);\n    }\n\n    for (var i = 0; i < js_urls.length; i++) {\n      var url = js_urls[i];\n      var element = document.createElement('script');\n      element.onload = on_load;\n      element.onerror = on_error;\n      element.async = false;\n      element.src = url;\n      console.debug(\"Bokeh: injecting script tag for BokehJS library: \", url);\n      document.head.appendChild(element);\n    }\n  };var element = document.getElementById(\"1001\");\n  if (element == null) {\n    console.error(\"Bokeh: ERROR: autoload.js configured with elementid '1001' but no matching script tag was found. \")\n    return false;\n  }\n\n  function inject_raw_css(css) {\n    const element = document.createElement(\"style\");\n    element.appendChild(document.createTextNode(css));\n    document.body.appendChild(element);\n  }\n\n  \n  var js_urls = [\"https://cdn.pydata.org/bokeh/release/bokeh-1.4.0.min.js\", \"https://cdn.pydata.org/bokeh/release/bokeh-widgets-1.4.0.min.js\", \"https://cdn.pydata.org/bokeh/release/bokeh-tables-1.4.0.min.js\", \"https://cdn.pydata.org/bokeh/release/bokeh-gl-1.4.0.min.js\"];\n  var css_urls = [];\n  \n\n  var inline_js = [\n    function(Bokeh) {\n      Bokeh.set_log_level(\"info\");\n    },\n    function(Bokeh) {\n    \n    \n    }\n  ];\n\n  function run_inline_js() {\n    \n    if (root.Bokeh !== undefined || force === true) {\n      \n    for (var i = 0; i < inline_js.length; i++) {\n      inline_js[i].call(root, root.Bokeh);\n    }\n    if (force === true) {\n        display_loaded();\n      }} else if (Date.now() < root._bokeh_timeout) {\n      setTimeout(run_inline_js, 100);\n    } else if (!root._bokeh_failed_load) {\n      console.log(\"Bokeh: BokehJS failed to load within specified timeout.\");\n      root._bokeh_failed_load = true;\n    } else if (force !== true) {\n      var cell = $(document.getElementById(\"1001\")).parents('.cell').data().cell;\n      cell.output_area.append_execute_result(NB_LOAD_WARNING)\n    }\n\n  }\n\n  if (root._bokeh_is_loading === 0) {\n    console.debug(\"Bokeh: BokehJS loaded, going straight to plotting\");\n    run_inline_js();\n  } else {\n    load_libs(css_urls, js_urls, function() {\n      console.debug(\"Bokeh: BokehJS plotting callback run at\", now());\n      run_inline_js();\n    });\n  }\n}(window));"
     },
     "metadata": {},
     "output_type": "display_data"
    }
   ],
   "source": [
    "import os\n",
    "import numpy as np\n",
    "import pandas as pd\n",
    "import seaborn as sns\n",
    "import matplotlib.pyplot as plt\n",
    "\n",
    "import ds_toolbox.modelling.time_series_utils as ts\n",
    "import ds_toolbox.modelling.misc_utils as ds\n",
    "from ds_toolbox.visualisation import corrplot, bokeh_chart, bokeh_candlestick, plot_colors\n",
    "\n",
    "from bokeh.plotting import show, output_notebook\n",
    "output_notebook()\n",
    "\n",
    "# pd.set_option(\"display.max_columns\", None)"
   ]
  },
  {
   "cell_type": "code",
   "execution_count": 2,
   "metadata": {
    "ExecuteTime": {
     "end_time": "2020-10-28T13:46:51.612959Z",
     "start_time": "2020-10-28T13:46:51.523023Z"
    }
   },
   "outputs": [],
   "source": [
    "from sklearn.neighbors import KernelDensity\n",
    "from sklearn.model_selection import GridSearchCV"
   ]
  },
  {
   "cell_type": "code",
   "execution_count": 3,
   "metadata": {
    "ExecuteTime": {
     "end_time": "2020-10-28T13:46:51.874284Z",
     "start_time": "2020-10-28T13:46:51.614599Z"
    }
   },
   "outputs": [],
   "source": [
    "raw = pd.read_csv(\"data/presidential_polls_2020_538.csv\")\n",
    "\n",
    "raw.created_at = pd.to_datetime(raw.created_at)\n",
    "raw = raw[raw.answer.isin([\"Biden\", \"Trump\"])]\n",
    "\n",
    "# keep only state-level polls\n",
    "raw = raw[raw.state.notna()]\n",
    "\n",
    "# keep only answers from likely voters (population and population_full are always equal)\n",
    "raw = raw[raw.population == \"lv\"]"
   ]
  },
  {
   "cell_type": "code",
   "execution_count": 4,
   "metadata": {
    "ExecuteTime": {
     "end_time": "2020-10-28T13:46:51.878808Z",
     "start_time": "2020-10-28T13:46:51.875790Z"
    }
   },
   "outputs": [],
   "source": [
    "states = raw.state.unique()"
   ]
  },
  {
   "cell_type": "code",
   "execution_count": 5,
   "metadata": {
    "ExecuteTime": {
     "end_time": "2020-10-28T13:46:51.900554Z",
     "start_time": "2020-10-28T13:46:51.880549Z"
    }
   },
   "outputs": [],
   "source": [
    "wide = raw.pivot_table(index=\"created_at\", columns=[\"state\", \"answer\"], values=\"pct\")"
   ]
  },
  {
   "cell_type": "code",
   "execution_count": 6,
   "metadata": {
    "ExecuteTime": {
     "end_time": "2020-10-28T13:46:51.905640Z",
     "start_time": "2020-10-28T13:46:51.902328Z"
    }
   },
   "outputs": [],
   "source": [
    "battlegrounds = ['Arizona',\n",
    " 'Colorado',\n",
    " 'Florida',\n",
    " 'Georgia',\n",
    " 'Iowa',\n",
    " 'Maine',\n",
    " 'Michigan',\n",
    " 'Minnesota',\n",
    " 'Nevada',\n",
    " 'New Hampshire',\n",
    " 'New Mexico',\n",
    " 'North Carolina',\n",
    " 'Ohio',\n",
    " 'Pennsylvania',\n",
    " 'Texas',\n",
    " 'Virginia',\n",
    " 'Wisconsin']\n",
    "\n",
    "party_colors = [\"red\", \"dodgerblue\"]"
   ]
  },
  {
   "cell_type": "markdown",
   "metadata": {},
   "source": [
    "## test KDE on single state (skip)"
   ]
  },
  {
   "cell_type": "code",
   "execution_count": 7,
   "metadata": {
    "ExecuteTime": {
     "end_time": "2020-10-28T13:46:52.835819Z",
     "start_time": "2020-10-28T13:46:52.486985Z"
    },
    "scrolled": false
   },
   "outputs": [
    {
     "data": {
      "image/png": "[encoded data removed]",
      "text/plain": [
       "<Figure size 1080x432 with 1 Axes>"
      ]
     },
     "metadata": {
      "needs_background": "light"
     },
     "output_type": "display_data"
    }
   ],
   "source": [
    "for state in [\"Michigan\"]:\n",
    "    plot_df = wide[state].dropna()[[\"Trump\", \"Biden\"]]\n",
    "    plot_df_roll = plot_df.rolling(window=10, min_periods=3).mean()\n",
    "    plot_df_roll.columns = [\"Trump_ave\", \"Biden_ave\"]\n",
    "    plot_df = plot_df.merge(plot_df_roll, left_index=True, right_index=True, how=\"left\")\n",
    "    ts.plot(plot_df, style=[\".\", \".\", \"--\", \"--\"], start_date=\"2020-07\", color=2*party_colors)\n",
    "    plt.title(state);\n"
   ]
  },
  {
   "cell_type": "code",
   "execution_count": 8,
   "metadata": {
    "ExecuteTime": {
     "end_time": "2020-10-28T13:46:53.162354Z",
     "start_time": "2020-10-28T13:46:53.158115Z"
    }
   },
   "outputs": [],
   "source": [
    "df = plot_df[plot_df.index >= \"2020-07\"]"
   ]
  },
  {
   "cell_type": "code",
   "execution_count": 9,
   "metadata": {
    "ExecuteTime": {
     "end_time": "2020-10-28T13:46:54.028051Z",
     "start_time": "2020-10-28T13:46:53.841664Z"
    },
    "scrolled": true
   },
   "outputs": [
    {
     "data": {
      "image/png": "[encoded data removed]",
      "text/plain": [
       "<Figure size 432x288 with 1 Axes>"
      ]
     },
     "metadata": {
      "needs_background": "light"
     },
     "output_type": "display_data"
    }
   ],
   "source": [
    "plt.hist(df.Biden, bins=10, color=\"dodgerblue\", alpha=0.6);\n",
    "plt.hist(df.Trump, bins=10, color=\"red\", alpha=0.4);\n"
   ]
  },
  {
   "cell_type": "code",
   "execution_count": 10,
   "metadata": {
    "ExecuteTime": {
     "end_time": "2020-10-28T13:46:54.687691Z",
     "start_time": "2020-10-28T13:46:54.684836Z"
    }
   },
   "outputs": [],
   "source": [
    "# plt.hist(df.Biden - df.Trump, bins=40, color=\"mediumpurple\", alpha=0.8);"
   ]
  },
  {
   "cell_type": "code",
   "execution_count": 11,
   "metadata": {
    "ExecuteTime": {
     "end_time": "2020-10-28T13:46:55.157914Z",
     "start_time": "2020-10-28T13:46:55.155156Z"
    },
    "scrolled": false
   },
   "outputs": [],
   "source": [
    "# for bandwidth in [0.01, 0.1, 0.2, 0.3, 0.4, 0.5, 1, 1.5, 3, 5]:\n",
    "#     net_biden = (df.Biden - df.Trump).to_frame()\n",
    "#     kde = KernelDensity(kernel='gaussian', bandwidth=bandwidth).fit(net_biden)\n",
    "#     samples = kde.sample(10000)\n",
    "#     plt.hist(samples, bins=100, label=str(bandwidth));\n",
    "#     frac_biden = (np.squeeze(samples) > 0).sum() / 10000\n",
    "#     print(frac_biden)\n",
    "#     plt.legend()\n",
    "#     plt.show()"
   ]
  },
  {
   "cell_type": "code",
   "execution_count": 12,
   "metadata": {
    "ExecuteTime": {
     "end_time": "2020-10-28T13:46:56.063536Z",
     "start_time": "2020-10-28T13:46:56.060830Z"
    }
   },
   "outputs": [],
   "source": [
    "# X = np.linspace(40, 60, 51).reshape(-1, 1)\n",
    "# log_dens = kde.score_samples(X)\n",
    "# plt.plot(X, np.exp(log_dens));"
   ]
  },
  {
   "cell_type": "markdown",
   "metadata": {},
   "source": [
    "### optimise bandwidth"
   ]
  },
  {
   "cell_type": "code",
   "execution_count": 14,
   "metadata": {
    "ExecuteTime": {
     "end_time": "2020-10-28T13:47:09.593684Z",
     "start_time": "2020-10-28T13:47:09.590826Z"
    }
   },
   "outputs": [],
   "source": [
    "# # use grid search cross-validation to optimize the bandwidth\n",
    "# params = {'bandwidth': np.logspace(-1, 1, 20)}\n",
    "# grid = GridSearchCV(KernelDensity(kernel=\"gaussian\"), params)\n",
    "# grid.fit(net_biden)\n",
    "\n",
    "# print(\"best bandwidth: {0}\".format(grid.best_estimator_.bandwidth))\n",
    "\n",
    "# # seems way too low"
   ]
  },
  {
   "cell_type": "markdown",
   "metadata": {},
   "source": [
    "## All batteground states  \n",
    "\n",
    "Use bandwidth of 5"
   ]
  },
  {
   "cell_type": "code",
   "execution_count": 15,
   "metadata": {
    "ExecuteTime": {
     "end_time": "2020-10-28T13:47:12.396969Z",
     "start_time": "2020-10-28T13:47:12.391854Z"
    }
   },
   "outputs": [],
   "source": [
    "safe_rep = ['Alabama',\n",
    " 'Alaska',\n",
    " 'Arkansas',\n",
    " 'Idaho',\n",
    " 'Indiana',\n",
    " 'Kansas',\n",
    " 'Kentucky',\n",
    " 'Louisiana',\n",
    " 'Mississippi',\n",
    " 'Missouri',\n",
    " 'Montana',\n",
    " 'Nebraska',\n",
    " 'North Dakota',\n",
    " 'Oklahoma',\n",
    " 'South Carolina',\n",
    " 'South Dakota',\n",
    " 'Tennessee',\n",
    " 'Utah',\n",
    " 'West Virginia',\n",
    " 'Wyoming']\n",
    "\n",
    "safe_dem = ['California',\n",
    " 'Connecticut',\n",
    " 'Delaware',\n",
    " 'District of Columbia',\n",
    " 'Hawaii',\n",
    " 'Illinois',\n",
    " 'Maryland',\n",
    " 'Massachusetts',\n",
    " 'New Jersey',\n",
    " 'New York',\n",
    " 'Oregon',\n",
    " 'Rhode Island',\n",
    " 'Vermont',\n",
    " 'Washington']"
   ]
  },
  {
   "cell_type": "code",
   "execution_count": 16,
   "metadata": {
    "ExecuteTime": {
     "end_time": "2020-10-28T13:47:13.285179Z",
     "start_time": "2020-10-28T13:47:13.277477Z"
    }
   },
   "outputs": [],
   "source": [
    "# downloaded from https://state.1keydata.com/state-electoral-votes.php\n",
    "votes_per_state = pd.read_csv(\"data/electoral_votes_per_state.csv\", \n",
    "                              header=None, index_col=0, names=[\"votes\"]).squeeze()\n"
   ]
  },
  {
   "cell_type": "code",
   "execution_count": 180,
   "metadata": {
    "ExecuteTime": {
     "end_time": "2020-10-28T14:42:06.450770Z",
     "start_time": "2020-10-28T14:42:03.896076Z"
    }
   },
   "outputs": [],
   "source": [
    "n_mc = 100000\n",
    "\n",
    "df_all = pd.DataFrame(index=range(n_mc), columns=states)\n",
    "\n",
    "df_all[safe_dem] = \"D\"\n",
    "df_all[safe_rep] = \"R\"\n",
    "\n",
    "for state in battlegrounds:\n",
    "    results = simulate_state(state, n_mc=n_mc, bandwidth=5, shy_trump=0)\n",
    "    df_all[state] = results"
   ]
  },
  {
   "cell_type": "code",
   "execution_count": 181,
   "metadata": {
    "ExecuteTime": {
     "end_time": "2020-10-28T14:42:07.899228Z",
     "start_time": "2020-10-28T14:42:07.896132Z"
    }
   },
   "outputs": [],
   "source": [
    "# this approach wasn't any faster than the explicit for loop\n",
    "\n",
    "# dfT = df_all.T\n",
    "# dfT.apply(count_states, axis=0)"
   ]
  },
  {
   "cell_type": "code",
   "execution_count": 182,
   "metadata": {
    "ExecuteTime": {
     "end_time": "2020-10-28T14:43:25.218529Z",
     "start_time": "2020-10-28T14:42:09.996741Z"
    }
   },
   "outputs": [],
   "source": [
    "dem_distr = np.empty(n_mc)\n",
    "rep_distr = np.empty(n_mc)\n",
    "\n",
    "for row in df_all.itertuples(name=None):\n",
    "    i = row[0]\n",
    "    vals = np.array(row[1:])\n",
    "    idx_d = np.where(vals == \"D\")[0]\n",
    "    idx_r = np.where(vals == \"R\")[0]\n",
    "    voted_dem = df_all.columns[idx_d]\n",
    "    voted_rep = df_all.columns[idx_r]\n",
    "    dem_total = votes_per_state[voted_dem].sum()\n",
    "    rep_total = votes_per_state[voted_rep].sum()\n",
    "  \n",
    "    dem_distr[i] = dem_total\n",
    "    rep_distr[i] = rep_total\n"
   ]
  },
  {
   "cell_type": "markdown",
   "metadata": {},
   "source": [
    "### conditional probability\n",
    "\n",
    "What is the probability of a Biden win under various battlegrounds voting Rep?"
   ]
  },
  {
   "cell_type": "code",
   "execution_count": 183,
   "metadata": {
    "ExecuteTime": {
     "end_time": "2020-10-28T14:43:25.746295Z",
     "start_time": "2020-10-28T14:43:25.220161Z"
    }
   },
   "outputs": [],
   "source": [
    "# df = df_all[df_all.Pennsylvania == \"R\"].reset_index()\n",
    "condition = (df_all.Pennsylvania == \"R\") & (df_all.Florida == \"R\") & (df_all.Wisconsin == \"R\")\n",
    "df = df_all[condition].reset_index()\n",
    "\n",
    "dem_distr = np.empty(len(df))\n",
    "rep_distr = np.empty(len(df))\n",
    "\n",
    "for row in df.itertuples(name=None):\n",
    "    i = row[0]\n",
    "    vals = np.array(row[1:])\n",
    "    idx_d = np.where(vals == \"D\")[0]\n",
    "    idx_r = np.where(vals == \"R\")[0]\n",
    "    voted_dem = df.columns[idx_d]\n",
    "    voted_rep = df.columns[idx_r]\n",
    "    dem_total = votes_per_state[voted_dem].sum()\n",
    "    rep_total = votes_per_state[voted_rep].sum()\n",
    "  \n",
    "    dem_distr[i] = dem_total\n",
    "    rep_distr[i] = rep_total"
   ]
  },
  {
   "cell_type": "code",
   "execution_count": 184,
   "metadata": {
    "ExecuteTime": {
     "end_time": "2020-10-28T14:43:25.752723Z",
     "start_time": "2020-10-28T14:43:25.748122Z"
    }
   },
   "outputs": [
    {
     "data": {
      "text/plain": [
       "0.7773913043478261"
      ]
     },
     "execution_count": 184,
     "metadata": {},
     "output_type": "execute_result"
    }
   ],
   "source": [
    "(dem_distr > 270).sum() / len(dem_distr)"
   ]
  },
  {
   "cell_type": "code",
   "execution_count": 188,
   "metadata": {
    "ExecuteTime": {
     "end_time": "2020-10-28T14:46:51.775823Z",
     "start_time": "2020-10-28T14:46:51.770757Z"
    }
   },
   "outputs": [
    {
     "data": {
      "text/plain": [
       "array([200, 205, 210, 215, 220, 225, 230, 235, 240, 245, 250, 255, 260,\n",
       "       265, 270, 275, 280, 285, 290, 295, 300, 305, 310, 315, 320, 325,\n",
       "       330, 335, 340, 345, 350])"
      ]
     },
     "execution_count": 188,
     "metadata": {},
     "output_type": "execute_result"
    }
   ],
   "source": [
    "np.arange(200, 351, 5)"
   ]
  },
  {
   "cell_type": "code",
   "execution_count": 189,
   "metadata": {
    "ExecuteTime": {
     "end_time": "2020-10-28T14:47:06.594187Z",
     "start_time": "2020-10-28T14:47:06.249525Z"
    },
    "scrolled": true
   },
   "outputs": [
    {
     "data": {
      "image/png": "[encoded data removed]",
      "text/plain": [
       "<Figure size 432x288 with 1 Axes>"
      ]
     },
     "metadata": {
      "needs_background": "light"
     },
     "output_type": "display_data"
    }
   ],
   "source": [
    "bins = np.arange(200, 351, 5)\n",
    "plt.hist(dem_distr, bins=bins, color=\"dodgerblue\", alpha=0.6);\n",
    "plt.hist(rep_distr, bins=bins, color=\"red\", alpha=0.4);\n",
    "plt.axvline(x=270, color=\"black\");"
   ]
  },
  {
   "cell_type": "code",
   "execution_count": 190,
   "metadata": {
    "ExecuteTime": {
     "end_time": "2020-10-28T14:47:40.416269Z",
     "start_time": "2020-10-28T14:47:40.273093Z"
    }
   },
   "outputs": [
    {
     "name": "stdout",
     "output_type": "stream",
     "text": [
      "Arizona 0.70525\n",
      "Colorado 0.98733\n",
      "Florida 0.67452\n",
      "Georgia 0.50132\n",
      "Iowa 0.46803\n",
      "Maine 0.98614\n",
      "Michigan 0.87402\n",
      "Minnesota 0.92297\n",
      "Nevada 0.75093\n",
      "New Hampshire 0.97499\n",
      "New Mexico 0.89175\n",
      "North Carolina 0.64769\n",
      "Ohio 0.36977\n",
      "Pennsylvania 0.83634\n",
      "Texas 0.34988\n",
      "Virginia 0.98709\n",
      "Wisconsin 0.88437\n"
     ]
    }
   ],
   "source": [
    "# biden win probabilities in battleground states\n",
    "for state in battlegrounds:\n",
    "\n",
    "    res = df_all[state].value_counts(normalize=True)[\"D\"]\n",
    "    print(state, res)"
   ]
  },
  {
   "cell_type": "code",
   "execution_count": 126,
   "metadata": {
    "ExecuteTime": {
     "end_time": "2020-10-28T14:27:11.770260Z",
     "start_time": "2020-10-28T14:27:11.765881Z"
    }
   },
   "outputs": [
    {
     "data": {
      "text/plain": [
       "0.9911"
      ]
     },
     "execution_count": 126,
     "metadata": {},
     "output_type": "execute_result"
    }
   ],
   "source": [
    "(dem_distr > 270).sum() / n_mc"
   ]
  },
  {
   "cell_type": "markdown",
   "metadata": {},
   "source": [
    "Assuming states are independent gives a massive Biden win probability."
   ]
  },
  {
   "cell_type": "code",
   "execution_count": 19,
   "metadata": {
    "ExecuteTime": {
     "end_time": "2020-10-28T13:47:20.675694Z",
     "start_time": "2020-10-28T13:47:20.669509Z"
    }
   },
   "outputs": [],
   "source": [
    "def simulate_state(state, n_mc=10000, bandwidth=5, shy_trump=0, shy_biden=0):\n",
    "    mapping = {True: \"D\", False: \"R\"}\n",
    "    \n",
    "    df = wide[state].dropna()[[\"Trump\", \"Biden\"]]\n",
    "    df = df[df.index >= \"2020-07\"]\n",
    "        \n",
    "    net_biden = (df.Biden + shy_biden - df.Trump - shy_trump).to_frame()\n",
    "    kde = KernelDensity(kernel='gaussian', bandwidth=bandwidth).fit(net_biden)\n",
    "        \n",
    "    samples = kde.sample(n_mc)\n",
    "    results = np.squeeze(samples) > 0    \n",
    "    results = np.array(list(map(mapping.get, results)))\n",
    "    \n",
    "    return results\n",
    "    "
   ]
  },
  {
   "cell_type": "markdown",
   "metadata": {},
   "source": [
    "## Add shy trump factor"
   ]
  },
  {
   "cell_type": "code",
   "execution_count": 127,
   "metadata": {
    "ExecuteTime": {
     "end_time": "2020-10-28T14:28:43.606198Z",
     "start_time": "2020-10-28T14:28:43.601391Z"
    }
   },
   "outputs": [],
   "source": [
    "dict_shy_trump = {'Arizona': 5.979,\n",
    " 'Colorado': 4.242,\n",
    " 'Florida': 2.365,\n",
    " 'Georgia': 3.966,\n",
    " 'Iowa': 8.694,\n",
    " 'Maine': 5.711,\n",
    " 'Michigan': 7.024,\n",
    " 'Minnesota': 7.782,\n",
    " 'Nevada': 3.793,\n",
    " 'New Hampshire': 6.726,\n",
    " 'New Mexico': 4.695,\n",
    " 'North Carolina': 5.333,\n",
    " 'Ohio': 8.049,\n",
    " 'Pennsylvania': 6.762,\n",
    " 'Texas': 4.261,\n",
    " 'Virginia': 4.391,\n",
    " 'Wisconsin': 7.11}"
   ]
  },
  {
   "cell_type": "code",
   "execution_count": 128,
   "metadata": {
    "ExecuteTime": {
     "end_time": "2020-10-28T14:28:44.281634Z",
     "start_time": "2020-10-28T14:28:44.276952Z"
    }
   },
   "outputs": [],
   "source": [
    "dict_shy_biden = {'Arizona': 4.843,\n",
    " 'Colorado': 3.011,\n",
    " 'Florida': 2.91,\n",
    " 'Georgia': 4.883,\n",
    " 'Iowa': 5.674,\n",
    " 'Maine': 0.363,\n",
    " 'Michigan': 3.213,\n",
    " 'Minnesota': 2.769,\n",
    " 'Nevada': 4.075,\n",
    " 'New Hampshire': 1.956,\n",
    " 'New Mexico': 3.303,\n",
    " 'North Carolina': 2.516,\n",
    " 'Ohio': 4.382,\n",
    " 'Pennsylvania': 0.442,\n",
    " 'Texas': 8.708,\n",
    " 'Virginia': 0.059,\n",
    " 'Wisconsin': 1.752}"
   ]
  },
  {
   "cell_type": "code",
   "execution_count": 144,
   "metadata": {
    "ExecuteTime": {
     "end_time": "2020-10-28T14:31:04.182931Z",
     "start_time": "2020-10-28T14:31:03.898533Z"
    }
   },
   "outputs": [],
   "source": [
    "for state in battlegrounds:\n",
    "    results = simulate_state(state, n_mc=n_mc, bandwidth=5, \n",
    "                             shy_trump=dict_shy_trump[state], shy_biden=0)\n",
    "    df_all[state] = results"
   ]
  },
  {
   "cell_type": "code",
   "execution_count": 145,
   "metadata": {
    "ExecuteTime": {
     "end_time": "2020-10-28T14:31:12.031264Z",
     "start_time": "2020-10-28T14:31:04.213147Z"
    }
   },
   "outputs": [],
   "source": [
    "dem_distr = np.empty(n_mc)\n",
    "rep_distr = np.empty(n_mc)\n",
    "\n",
    "for row in df_all.itertuples(name=None):\n",
    "    i = row[0]\n",
    "    vals = np.array(row[1:])\n",
    "    idx_d = np.where(vals == \"D\")[0]\n",
    "    idx_r = np.where(vals == \"R\")[0]\n",
    "    voted_dem = df_all.columns[idx_d]\n",
    "    voted_rep = df_all.columns[idx_r]\n",
    "    dem_total = votes_per_state[voted_dem].sum()\n",
    "    rep_total = votes_per_state[voted_rep].sum()\n",
    "  \n",
    "    dem_distr[i] = dem_total\n",
    "    rep_distr[i] = rep_total\n"
   ]
  },
  {
   "cell_type": "code",
   "execution_count": 146,
   "metadata": {
    "ExecuteTime": {
     "end_time": "2020-10-28T14:31:12.036752Z",
     "start_time": "2020-10-28T14:31:12.032679Z"
    }
   },
   "outputs": [
    {
     "data": {
      "text/plain": [
       "0.5699"
      ]
     },
     "execution_count": 146,
     "metadata": {},
     "output_type": "execute_result"
    }
   ],
   "source": [
    "(dem_distr > 270).sum() / n_mc"
   ]
  },
  {
   "cell_type": "code",
   "execution_count": 147,
   "metadata": {
    "ExecuteTime": {
     "end_time": "2020-10-28T14:31:12.299166Z",
     "start_time": "2020-10-28T14:31:12.038573Z"
    }
   },
   "outputs": [
    {
     "data": {
      "image/png": "[encoded data removed]",
      "text/plain": [
       "<Figure size 432x288 with 1 Axes>"
      ]
     },
     "metadata": {
      "needs_background": "light"
     },
     "output_type": "display_data"
    }
   ],
   "source": [
    "plt.hist(dem_distr, bins=50, color=\"dodgerblue\", alpha=0.6);\n",
    "plt.hist(rep_distr, bins=50, color=\"red\", alpha=0.4);\n",
    "plt.axvline(x=270, color=\"black\");"
   ]
  },
  {
   "cell_type": "code",
   "execution_count": null,
   "metadata": {},
   "outputs": [],
   "source": []
  }
 ],
 "metadata": {
  "kernelspec": {
   "display_name": "env_python36",
   "language": "python",
   "name": "env_python36"
  },
  "language_info": {
   "codemirror_mode": {
    "name": "ipython",
    "version": 3
   },
   "file_extension": ".py",
   "mimetype": "text/x-python",
   "name": "python",
   "nbconvert_exporter": "python",
   "pygments_lexer": "ipython3",
   "version": "3.6.8"
  },
  "toc": {
   "base_numbering": 1,
   "nav_menu": {},
   "number_sections": true,
   "sideBar": true,
   "skip_h1_title": true,
   "title_cell": "Table of Contents",
   "title_sidebar": "Contents",
   "toc_cell": false,
   "toc_position": {},
   "toc_section_display": true,
   "toc_window_display": true
  }
 },
 "nbformat": 4,
 "nbformat_minor": 2
}
